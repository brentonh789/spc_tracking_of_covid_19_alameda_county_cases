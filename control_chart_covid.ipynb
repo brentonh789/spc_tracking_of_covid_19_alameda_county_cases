{
 "cells": [
  {
   "cell_type": "code",
   "execution_count": 1,
   "metadata": {},
   "outputs": [
    {
     "name": "stderr",
     "output_type": "stream",
     "text": [
      "/anaconda3/envs/py37/lib/python3.7/site-packages/arcgis/features/_data/geodataset/utils.py:15: FutureWarning: The pandas.datetime class is deprecated and will be removed from pandas in a future version. Import from datetime module instead.\n",
      "  pd.datetime,\n"
     ]
    }
   ],
   "source": [
    "#https://data.acgov.org/datasets/AC-HCSA::alameda-county-covid-19-cases-and-deaths-over-time-1/data\n",
    "import pandas as pd\n",
    "import numpy as np\n",
    "import requests\n",
    "#api to pull data\n",
    "from arcgis.gis import GIS\n"
   ]
  },
  {
   "cell_type": "code",
   "execution_count": 2,
   "metadata": {},
   "outputs": [],
   "source": [
    "def i_chart_limits(sigma, x_bar, mr_bar):\n",
    "    #1.128 is a known defined constant to calculate control limits\n",
    "    d2 = 1.128\n",
    "    ucl = x_bar + sigma*mr_bar/d2\n",
    "    lcl = x_bar - sigma*mr_bar/d2\n",
    "    \n",
    "    return lcl, ucl\n",
    "\n",
    "\n",
    "\n",
    "def mr_chart_limits(mr_bar):\n",
    "    D4 = 3.27\n",
    "    D3 = 0 \n",
    "    ucl = D4*MR_BAR\n",
    "    lcl = D3*MR_BAR\n",
    "    \n",
    "    return lcl, ucl\n"
   ]
  },
  {
   "cell_type": "code",
   "execution_count": null,
   "metadata": {},
   "outputs": [],
   "source": []
  },
  {
   "cell_type": "code",
   "execution_count": 3,
   "metadata": {},
   "outputs": [
    {
     "data": {
      "text/plain": [
       "'1_data_input/api/ACdates.csv'"
      ]
     },
     "execution_count": 3,
     "metadata": {},
     "output_type": "execute_result"
    }
   ],
   "source": [
    "###Connect and download data from Alameda county via API\n",
    "public_data_item_id = '7ea4fd9b8a1040a7b3815f2e0b5f92ba'\n",
    "anon_gis = GIS()\n",
    "data_item = anon_gis.content.get(public_data_item_id)\n",
    "data_path = '1_data_input/api'\n",
    "data_item.download(save_path=data_path)"
   ]
  },
  {
   "cell_type": "code",
   "execution_count": 4,
   "metadata": {},
   "outputs": [],
   "source": [
    "###import downloaded data from API to dataframe\n",
    "dfcov_source = pd.read_csv('1_data_input/api/ACdates.csv')\n",
    "#convert columns to appropriate data types\n",
    "dfcov_source['Date'] = pd.to_datetime(dfcov_source['Date'])\n",
    "\n",
    "\n",
    "###import special cause manual override data\n",
    "df_sc = pd.read_csv('1_data_input/special_cause_dates.csv')\n",
    "df_sc['Date'] = pd.to_datetime(df_sc['Date'])\n",
    "\n"
   ]
  },
  {
   "cell_type": "code",
   "execution_count": null,
   "metadata": {},
   "outputs": [],
   "source": [
    "\n"
   ]
  },
  {
   "cell_type": "code",
   "execution_count": null,
   "metadata": {},
   "outputs": [],
   "source": []
  },
  {
   "cell_type": "code",
   "execution_count": 5,
   "metadata": {
    "scrolled": true
   },
   "outputs": [],
   "source": [
    "####select columns of interest\n",
    "#Berkeley and Alameda have seprate local health juristidction (LHJ), which is why the data is split abou bteween Bk and AC\n",
    "#The total of these LHJ counts give the total alameda county counts\n",
    "#we are interested in using a I-MR chart on the count of total cases and deaths in Alameda county\n",
    "dfcov_select = dfcov_source[['Date','BkLHJ_Cases','BkLHJ_Deaths','ACLHJ_Cases','ACLHJ_Deaths']].copy()\n",
    "dfcov_select['total_cases'] = dfcov_select['BkLHJ_Cases'] + dfcov_select['ACLHJ_Cases']\n",
    "dfcov_select['total_deaths'] = dfcov_select['BkLHJ_Deaths'] + dfcov_select['ACLHJ_Deaths']\n",
    "\n",
    "#filter for only data after shelter in place order in bay area, which is 2020-03-19\n",
    "#assume a stable period starts during Phase I after shelter in place\n",
    "dfcov_filter = dfcov_select.loc[dfcov_select['Date'] > '2020-03-19']\n",
    "dfcov = dfcov_filter[['Date', 'total_cases']].copy()\n",
    "\n",
    "###join special cause date to flag out of control count dates\n",
    "dfcov = dfcov.merge(df_sc, how='left', on='Date')\n",
    "\n"
   ]
  },
  {
   "cell_type": "code",
   "execution_count": 6,
   "metadata": {},
   "outputs": [],
   "source": [
    "###Selecting the control to use\n",
    "#Use I-MR chart, because subgroupings don't need to being defined. Not subgroups because # of test is unknown given current data\n",
    "dfcov['moving_range'] = dfcov['total_cases'] - dfcov['total_cases'].shift(periods=1)\n",
    "dfcov['moving_range'] = dfcov['moving_range'].abs()\n",
    "\n",
    "\n"
   ]
  },
  {
   "cell_type": "code",
   "execution_count": 7,
   "metadata": {},
   "outputs": [],
   "source": [
    "###calculate control limits and lock the limits on date for when this was created\n",
    "#don't use future dates, limits are locked on may 7\n",
    "dfcov_locklimits = dfcov.loc[dfcov['Date'] < '2020-05-07'].copy()\n",
    "#remove special causes\n",
    "dfcov_locklimits = dfcov_locklimits[pd.isnull(dfcov_locklimits['special_cause_reason'])]\n",
    "\n",
    "\n",
    "\n",
    "MR_BAR = dfcov_locklimits['moving_range'].mean()\n",
    "X_BAR = dfcov_locklimits['total_cases'].mean()\n",
    "\n"
   ]
  },
  {
   "cell_type": "code",
   "execution_count": 8,
   "metadata": {},
   "outputs": [],
   "source": [
    "dfcov.to_csv('test.csv')"
   ]
  },
  {
   "cell_type": "code",
   "execution_count": 9,
   "metadata": {},
   "outputs": [
    {
     "data": {
      "text/plain": [
       "15.0"
      ]
     },
     "execution_count": 9,
     "metadata": {},
     "output_type": "execute_result"
    }
   ],
   "source": [
    "X_BAR\n",
    "MR_BAR"
   ]
  },
  {
   "cell_type": "code",
   "execution_count": 10,
   "metadata": {},
   "outputs": [],
   "source": [
    "#calculate UCL and LCL at 3 sigma\n",
    "I_LCL, I_UCL = i_chart_limits(3, X_BAR, MR_BAR)\n",
    "MR_LCL, MR_UCL, = mr_chart_limits(MR_BAR)\n",
    "\n",
    "#calculate zone limits 1, 2 for I chart\n",
    "I_LCL_SIGMA_1, I_UCL_SIGMA_1 = i_chart_limits(1, X_BAR, MR_BAR)\n",
    "I_LCL_SIGMA_2, I_UCL_SIGMA_2 = i_chart_limits(2, X_BAR, MR_BAR)\n"
   ]
  },
  {
   "cell_type": "code",
   "execution_count": 11,
   "metadata": {},
   "outputs": [],
   "source": [
    "###detect special cause trends (to do)\n"
   ]
  },
  {
   "cell_type": "code",
   "execution_count": null,
   "metadata": {},
   "outputs": [],
   "source": []
  },
  {
   "cell_type": "code",
   "execution_count": null,
   "metadata": {},
   "outputs": [],
   "source": []
  },
  {
   "cell_type": "code",
   "execution_count": 12,
   "metadata": {},
   "outputs": [],
   "source": [
    "#create dataframe to visualize control charts\n",
    "dfcov_cc = dfcov.copy()\n",
    "dfcov_cc['I_UCL'] = I_UCL\n",
    "dfcov_cc['I_LCL'] = I_LCL\n",
    "\n",
    "dfcov_cc['I_LCL_SIGMA_1'] = I_LCL_SIGMA_1\n",
    "dfcov_cc['I_UCL_SIGMA_1'] = I_UCL_SIGMA_1\n",
    "\n",
    "dfcov_cc['I_LCL_SIGMA_2'] = I_LCL_SIGMA_2\n",
    "dfcov_cc['I_UCL_SIGMA_2'] = I_UCL_SIGMA_2\n",
    "\n",
    "dfcov_cc['MR_UCL'] = MR_UCL\n",
    "dfcov_cc['MR_LCL'] = MR_LCL\n",
    "dfcov_cc['X_BAR'] = X_BAR\n",
    "dfcov_cc['MR_BAR'] = MR_BAR\n"
   ]
  },
  {
   "cell_type": "code",
   "execution_count": 13,
   "metadata": {},
   "outputs": [],
   "source": [
    "#flag points out of control \n",
    "dfcov_cc['I_control_flag'] = np.where((~pd.isnull(dfcov_cc['special_cause_reason'])) | (dfcov_cc['total_cases'] > dfcov_cc['I_UCL']) | (dfcov_cc['total_cases'] < dfcov_cc['I_LCL']  ) ,'out of control', 'in control')\n",
    "dfcov_cc['MR_control_flag'] = np.where((dfcov_cc['moving_range'] > dfcov_cc['MR_UCL']) | (dfcov_cc['moving_range'] < dfcov_cc['MR_LCL']) ,'out of control', 'in control')\n"
   ]
  },
  {
   "cell_type": "code",
   "execution_count": 14,
   "metadata": {},
   "outputs": [],
   "source": [
    "dfcov_cc.to_csv('2_data_output/ac_covid_control_chart.csv')"
   ]
  },
  {
   "cell_type": "code",
   "execution_count": null,
   "metadata": {},
   "outputs": [],
   "source": []
  },
  {
   "cell_type": "code",
   "execution_count": null,
   "metadata": {},
   "outputs": [],
   "source": []
  },
  {
   "cell_type": "code",
   "execution_count": null,
   "metadata": {},
   "outputs": [],
   "source": []
  },
  {
   "cell_type": "code",
   "execution_count": null,
   "metadata": {},
   "outputs": [],
   "source": []
  },
  {
   "cell_type": "code",
   "execution_count": null,
   "metadata": {},
   "outputs": [],
   "source": []
  }
 ],
 "metadata": {
  "kernelspec": {
   "display_name": "Python 3",
   "language": "python",
   "name": "python3"
  },
  "language_info": {
   "codemirror_mode": {
    "name": "ipython",
    "version": 3
   },
   "file_extension": ".py",
   "mimetype": "text/x-python",
   "name": "python",
   "nbconvert_exporter": "python",
   "pygments_lexer": "ipython3",
   "version": "3.7.7"
  }
 },
 "nbformat": 4,
 "nbformat_minor": 2
}
