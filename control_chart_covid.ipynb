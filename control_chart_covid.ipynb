{
 "cells": [
  {
   "cell_type": "code",
   "execution_count": 1,
   "metadata": {},
   "outputs": [],
   "source": [
    "#https://data.acgov.org/datasets/AC-HCSA::alameda-county-covid-19-cases-and-deaths-over-time-1/data\n",
    "import pandas as pd\n",
    "import numpy as np"
   ]
  },
  {
   "cell_type": "code",
   "execution_count": 2,
   "metadata": {},
   "outputs": [],
   "source": [
    "dfcov_source = pd.read_csv('1_data_input/Alameda_County_COVID-19_Cases_and_Deaths_Over_Time.csv')"
   ]
  },
  {
   "cell_type": "code",
   "execution_count": null,
   "metadata": {},
   "outputs": [],
   "source": []
  },
  {
   "cell_type": "code",
   "execution_count": 3,
   "metadata": {},
   "outputs": [],
   "source": [
    "####convert columns to appropriate data types\n",
    "dfcov_source['Date'] = pd.to_datetime(dfcov_source['Date'])\n",
    "\n"
   ]
  },
  {
   "cell_type": "code",
   "execution_count": 4,
   "metadata": {},
   "outputs": [],
   "source": [
    "####select columns of interest\n",
    "#Berkeley and Alameda have seprate local health juristidction (LHJ), which is why the data is split abou bteween Bk and AC\n",
    "#The total of these LHJ counts give the total alameda county counts\n",
    "#we are interested in using a U chart on the count of total cases and deaths in Alameda county\n",
    "dfcov_select = dfcov_source[['Date','BkLHJ_Cases','BkLHJ_Deaths','ACLHJ_Cases','ACLHJ_Deaths']].copy()\n",
    "dfcov_select['total_cases'] = dfcov_select['BkLHJ_Cases'] + dfcov_select['ACLHJ_Cases']\n",
    "dfcov_select['total_deaths'] = dfcov_select['BkLHJ_Deaths'] + dfcov_select['ACLHJ_Deaths']\n",
    "\n",
    "#filter for only data after shelter in place order in bay area, which is 2020-03-19\n",
    "#assume a stable period starts during Phase I after shelter in place\n",
    "dfcov_filter = dfcov_select.loc[dfcov_select['Date'] > '2020-03-19']\n",
    "dfcov = dfcov_filter[['Date', 'total_cases']].copy()\n",
    "\n",
    "\n",
    "\n"
   ]
  },
  {
   "cell_type": "code",
   "execution_count": 20,
   "metadata": {},
   "outputs": [
    {
     "data": {
      "text/html": [
       "<div>\n",
       "<style scoped>\n",
       "    .dataframe tbody tr th:only-of-type {\n",
       "        vertical-align: middle;\n",
       "    }\n",
       "\n",
       "    .dataframe tbody tr th {\n",
       "        vertical-align: top;\n",
       "    }\n",
       "\n",
       "    .dataframe thead th {\n",
       "        text-align: right;\n",
       "    }\n",
       "</style>\n",
       "<table border=\"1\" class=\"dataframe\">\n",
       "  <thead>\n",
       "    <tr style=\"text-align: right;\">\n",
       "      <th></th>\n",
       "      <th>Date</th>\n",
       "      <th>total_cases</th>\n",
       "      <th>moving_range</th>\n",
       "    </tr>\n",
       "  </thead>\n",
       "  <tbody>\n",
       "    <tr>\n",
       "      <th>20</th>\n",
       "      <td>2020-03-19 07:00:00+00:00</td>\n",
       "      <td>8</td>\n",
       "      <td>NaN</td>\n",
       "    </tr>\n",
       "    <tr>\n",
       "      <th>21</th>\n",
       "      <td>2020-03-20 07:00:00+00:00</td>\n",
       "      <td>21</td>\n",
       "      <td>13.0</td>\n",
       "    </tr>\n",
       "    <tr>\n",
       "      <th>22</th>\n",
       "      <td>2020-03-21 07:00:00+00:00</td>\n",
       "      <td>17</td>\n",
       "      <td>4.0</td>\n",
       "    </tr>\n",
       "    <tr>\n",
       "      <th>23</th>\n",
       "      <td>2020-03-22 07:00:00+00:00</td>\n",
       "      <td>28</td>\n",
       "      <td>11.0</td>\n",
       "    </tr>\n",
       "    <tr>\n",
       "      <th>24</th>\n",
       "      <td>2020-03-23 07:00:00+00:00</td>\n",
       "      <td>24</td>\n",
       "      <td>4.0</td>\n",
       "    </tr>\n",
       "  </tbody>\n",
       "</table>\n",
       "</div>"
      ],
      "text/plain": [
       "                        Date  total_cases  moving_range\n",
       "20 2020-03-19 07:00:00+00:00            8           NaN\n",
       "21 2020-03-20 07:00:00+00:00           21          13.0\n",
       "22 2020-03-21 07:00:00+00:00           17           4.0\n",
       "23 2020-03-22 07:00:00+00:00           28          11.0\n",
       "24 2020-03-23 07:00:00+00:00           24           4.0"
      ]
     },
     "execution_count": 20,
     "metadata": {},
     "output_type": "execute_result"
    }
   ],
   "source": [
    "###Selecting the control to use\n",
    "#My intitial guess was to use a C chart, however, the assumign this would required that the number of samples are fixed, which is a heavy assumption\n",
    "#After some research, I decided to use an I-MR chart to account for subgroupings never being defined\n",
    "\n",
    "dfcov['moving_range'] = dfcov['total_cases'] - dfcov['total_cases'].shift(periods=1)\n",
    "dfcov['moving_range'] = dfcov['moving_range'].abs()\n",
    "dfcov.head(5)\n",
    "\n"
   ]
  },
  {
   "cell_type": "code",
   "execution_count": 21,
   "metadata": {},
   "outputs": [],
   "source": [
    "###calculate control limits and lock the limits on date for when this was created\n",
    "dfcov.locklimits = dfcov[dfcov['Date'] < '2020-05-07'].copy()\n",
    "\n",
    "MR_BAR = dfcov.locklimits['moving_range'].mean()\n",
    "X_BAR = dfcov.locklimits['total_cases'].mean()\n",
    "N = 2\n",
    "E2 = 2.66\n",
    "D4 = 3.27\n",
    "D3 = 0 \n",
    "#calculate limits\n",
    "I_UCL = X_BAR + E2*MR_BAR\n",
    "I_LCL = X_BAR - E2*MR_BAR\n",
    "\n",
    "MR_UCL = D4*MR_BAR\n",
    "MR_LCL = D3*MR_BAR\n"
   ]
  },
  {
   "cell_type": "code",
   "execution_count": null,
   "metadata": {},
   "outputs": [],
   "source": []
  },
  {
   "cell_type": "code",
   "execution_count": 22,
   "metadata": {},
   "outputs": [],
   "source": [
    "#create dataframe to visualize control charts\n",
    "dfcov_cc = dfcov.copy()\n",
    "dfcov_cc['I_UCL'] = I_UCL\n",
    "dfcov_cc['I_LCL'] = I_LCL\n",
    "dfcov_cc['MR_UCL'] = MR_UCL\n",
    "dfcov_cc['MR_LCL'] = MR_LCL\n",
    "dfcov_cc['X_BAR'] = X_BAR\n",
    "dfcov_cc['MR_BAR'] = MR_BAR\n"
   ]
  },
  {
   "cell_type": "code",
   "execution_count": 23,
   "metadata": {},
   "outputs": [],
   "source": [
    "#flag points out of control \n",
    "dfcov_cc['I_control_flag'] = np.where((dfcov_cc['total_cases'] > dfcov_cc['I_UCL']) | (dfcov_cc['total_cases'] < dfcov_cc['I_LCL']) ,'out of control', 'in control')\n",
    "dfcov_cc['MR_control_flag'] = np.where((dfcov_cc['moving_range'] > dfcov_cc['MR_UCL']) | (dfcov_cc['moving_range'] < dfcov_cc['MR_LCL']) ,'out of control', 'in control')\n"
   ]
  },
  {
   "cell_type": "code",
   "execution_count": 24,
   "metadata": {},
   "outputs": [],
   "source": [
    "dfcov_cc.to_csv('2_data_output/ac_covid_control_chart.csv')"
   ]
  },
  {
   "cell_type": "code",
   "execution_count": null,
   "metadata": {},
   "outputs": [],
   "source": []
  },
  {
   "cell_type": "code",
   "execution_count": null,
   "metadata": {},
   "outputs": [],
   "source": []
  }
 ],
 "metadata": {
  "kernelspec": {
   "display_name": "Python 3",
   "language": "python",
   "name": "python3"
  },
  "language_info": {
   "codemirror_mode": {
    "name": "ipython",
    "version": 3
   },
   "file_extension": ".py",
   "mimetype": "text/x-python",
   "name": "python",
   "nbconvert_exporter": "python",
   "pygments_lexer": "ipython3",
   "version": "3.7.7"
  }
 },
 "nbformat": 4,
 "nbformat_minor": 2
}
