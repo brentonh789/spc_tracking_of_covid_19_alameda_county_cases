{
 "cells": [
  {
   "cell_type": "code",
   "execution_count": 83,
   "metadata": {},
   "outputs": [],
   "source": [
    "#https://data.acgov.org/datasets/AC-HCSA::alameda-county-covid-19-cases-and-deaths-over-time-1/data\n",
    "import pandas as pd\n",
    "import numpy as np"
   ]
  },
  {
   "cell_type": "code",
   "execution_count": 29,
   "metadata": {},
   "outputs": [],
   "source": [
    "dfcov_source = pd.read_csv('1_data_input/Alameda_County_COVID-19_Cases_and_Deaths_Over_Time.csv')"
   ]
  },
  {
   "cell_type": "code",
   "execution_count": null,
   "metadata": {},
   "outputs": [],
   "source": []
  },
  {
   "cell_type": "code",
   "execution_count": 36,
   "metadata": {},
   "outputs": [],
   "source": [
    "####convert columns to appropriate data types\n",
    "dfcov_source['Date'] = pd.to_datetime(dfcov_source['Date'])\n",
    "\n"
   ]
  },
  {
   "cell_type": "code",
   "execution_count": 57,
   "metadata": {},
   "outputs": [],
   "source": [
    "####select columns of interest\n",
    "#Berkeley and Alameda have seprate local health juristidction (LHJ), which is why the data is split abou bteween Bk and AC\n",
    "#The total of these LHJ counts give the total alameda county counts\n",
    "#we are interested in using a U chart on the count of total cases and deaths in Alameda county\n",
    "dfcov_select = dfcov_source[['Date','BkLHJ_Cases','BkLHJ_Deaths','ACLHJ_Cases','ACLHJ_Deaths']].copy()\n",
    "dfcov_select['total_cases'] = dfcov_select['BkLHJ_Cases'] + dfcov_select['ACLHJ_Cases']\n",
    "dfcov_select['total_deaths'] = dfcov_select['BkLHJ_Deaths'] + dfcov_select['ACLHJ_Deaths']\n",
    "\n",
    "#filter for only data after shelter in place order in bay area, which is 2020-03-19\n",
    "#assume a stable period starts during Phase I after shelter in place\n",
    "dfcov_filter = dfcov_select.loc[dfcov_select['Date'] > '2020-03-19']\n",
    "dfcov = dfcov_filter[['Date', 'total_cases']].copy()\n",
    "\n",
    "\n",
    "\n"
   ]
  },
  {
   "cell_type": "code",
   "execution_count": 63,
   "metadata": {},
   "outputs": [],
   "source": [
    "###Selecting the control to use\n",
    "#My intitial guess was to use a C chart, however, the assumign this would required that the number of samples are fixed, which is a heavy assumption\n",
    "#After some research, I decided to use an I-MR chart to account for subgroupings never being defined\n",
    "\n",
    "dfcov['moving_range'] = dfcov['total_cases'] - dfcov['total_cases'].shift(periods=1)\n",
    "dfcov['moving_range'] = dfcov['moving_range'].abs()\n",
    "dfcov.head(5)\n",
    "\n",
    "\n"
   ]
  },
  {
   "cell_type": "code",
   "execution_count": 65,
   "metadata": {},
   "outputs": [],
   "source": [
    "###calculate control limits\n",
    "MR_BAR = dfcov['moving_range'].mean()\n",
    "X_BAR = dfcov['total_cases'].mean()\n",
    "N = 2\n",
    "E2 = 2.66\n",
    "D4 = 3.27\n",
    "D3 = 0 \n",
    "#calculate limits\n",
    "I_UCL = X_BAR + E2*MR_BAR\n",
    "I_LCL = X_BAR - E2*MR_BAR\n",
    "\n",
    "MR_UCL = D4*MR_BAR\n",
    "MR_LCL = D3*MR_BAR\n"
   ]
  },
  {
   "cell_type": "code",
   "execution_count": 79,
   "metadata": {},
   "outputs": [],
   "source": [
    "#create dataframe to visualize control charts\n",
    "dfcov_cc = dfcov.copy()\n",
    "dfcov_cc['I_UCL'] = I_UCL\n",
    "dfcov_cc['I_LCL'] = I_LCL\n",
    "dfcov_cc['MR_UCL'] = MR_UCL\n",
    "dfcov_cc['MR_LCL'] = MR_LCL\n",
    "dfcov_cc['X_BAR'] = X_BAR\n",
    "dfcov_cc['MR_BAR'] = MR_BAR\n"
   ]
  },
  {
   "cell_type": "code",
   "execution_count": 91,
   "metadata": {},
   "outputs": [],
   "source": [
    "#flag points out of control \n",
    "dfcov_cc['I_control_flag'] = np.where((dfcov_cc['total_cases'] > dfcov_cc['I_UCL']) | (dfcov_cc['total_cases'] < dfcov_cc['I_LCL']) ,'out of control', 'in control')\n",
    "dfcov_cc['MR_control_flag'] = np.where((dfcov_cc['moving_range'] > dfcov_cc['MR_UCL']) | (dfcov_cc['moving_range'] < dfcov_cc['MR_LCL']) ,'out of control', 'in control')\n"
   ]
  },
  {
   "cell_type": "code",
   "execution_count": 93,
   "metadata": {},
   "outputs": [],
   "source": [
    "dfcov_cc.to_csv('2_data_output/ac_covid_control_chart.csv')"
   ]
  },
  {
   "cell_type": "code",
   "execution_count": null,
   "metadata": {},
   "outputs": [],
   "source": []
  },
  {
   "cell_type": "code",
   "execution_count": null,
   "metadata": {},
   "outputs": [],
   "source": []
  }
 ],
 "metadata": {
  "kernelspec": {
   "display_name": "Python 3",
   "language": "python",
   "name": "python3"
  },
  "language_info": {
   "codemirror_mode": {
    "name": "ipython",
    "version": 3
   },
   "file_extension": ".py",
   "mimetype": "text/x-python",
   "name": "python",
   "nbconvert_exporter": "python",
   "pygments_lexer": "ipython3",
   "version": "3.6.8"
  }
 },
 "nbformat": 4,
 "nbformat_minor": 2
}
